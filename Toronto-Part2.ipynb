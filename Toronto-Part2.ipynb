{
 "cells": [
  {
   "cell_type": "markdown",
   "metadata": {},
   "source": [
    "# Scraping and Clustering Toronto with Python\n",
    "# Part 2 - Locating Neighborhoods"
   ]
  },
  {
   "cell_type": "markdown",
   "metadata": {},
   "source": [
    "## Introduction\n",
    "\n",
    "In this Part 2 of 3 of the series, we will locate the coordinates of neighborhoods in Toronto using the Nominatim library, save into the dataframe for furtherprocessing in Part 3."
   ]
  },
  {
   "cell_type": "markdown",
   "metadata": {},
   "source": [
    "### Import the necessary libraries"
   ]
  },
  {
   "cell_type": "code",
   "execution_count": 52,
   "metadata": {},
   "outputs": [],
   "source": [
    "import pandas as pd\n",
    "from geopy.geocoders import Nominatim"
   ]
  },
  {
   "cell_type": "markdown",
   "metadata": {},
   "source": [
    "A function to get coordinates using the Nominatim library. Checking on some neighborhoods might throw an AttributeError. If it happens, check the coordinates using the borough name instead."
   ]
  },
  {
   "cell_type": "code",
   "execution_count": 53,
   "metadata": {},
   "outputs": [],
   "source": [
    "def get_coordinates(address):\n",
    "    geolocator = Nominatim(user_agent = \"toronto_explorer\")\n",
    "\n",
    "    try:\n",
    "        location = geolocator.geocode(address)\n",
    "        latitude = location.latitude\n",
    "        longitude = location.longitude\n",
    "    \n",
    "    except AttributeError:\n",
    "        latitude = None\n",
    "        longitude = None\n",
    "\n",
    "    return latitude, longitude"
   ]
  },
  {
   "cell_type": "markdown",
   "metadata": {},
   "source": [
    "Make sure the function works."
   ]
  },
  {
   "cell_type": "code",
   "execution_count": 54,
   "metadata": {},
   "outputs": [
    {
     "data": {
      "text/plain": [
       "(43.6534817, -79.3839347)"
      ]
     },
     "execution_count": 54,
     "metadata": {},
     "output_type": "execute_result"
    }
   ],
   "source": [
    "get_coordinates('Toronto')"
   ]
  },
  {
   "cell_type": "markdown",
   "metadata": {},
   "source": [
    "## Load the dataframe"
   ]
  },
  {
   "cell_type": "code",
   "execution_count": 55,
   "metadata": {},
   "outputs": [
    {
     "data": {
      "text/html": [
       "<div>\n",
       "<style scoped>\n",
       "    .dataframe tbody tr th:only-of-type {\n",
       "        vertical-align: middle;\n",
       "    }\n",
       "\n",
       "    .dataframe tbody tr th {\n",
       "        vertical-align: top;\n",
       "    }\n",
       "\n",
       "    .dataframe thead th {\n",
       "        text-align: right;\n",
       "    }\n",
       "</style>\n",
       "<table border=\"1\" class=\"dataframe\">\n",
       "  <thead>\n",
       "    <tr style=\"text-align: right;\">\n",
       "      <th></th>\n",
       "      <th>PostalCode</th>\n",
       "      <th>Borough</th>\n",
       "      <th>Neighborhood</th>\n",
       "    </tr>\n",
       "  </thead>\n",
       "  <tbody>\n",
       "    <tr>\n",
       "      <th>M3A</th>\n",
       "      <td>M3A</td>\n",
       "      <td>North York</td>\n",
       "      <td>Parkwoods</td>\n",
       "    </tr>\n",
       "    <tr>\n",
       "      <th>M4A</th>\n",
       "      <td>M4A</td>\n",
       "      <td>North York</td>\n",
       "      <td>Victoria Village</td>\n",
       "    </tr>\n",
       "    <tr>\n",
       "      <th>M5A</th>\n",
       "      <td>M5A</td>\n",
       "      <td>Downtown Toronto</td>\n",
       "      <td>Regent Park, Harbourfront</td>\n",
       "    </tr>\n",
       "    <tr>\n",
       "      <th>M6A</th>\n",
       "      <td>M6A</td>\n",
       "      <td>North York</td>\n",
       "      <td>Lawrence Manor, Lawrence Heights</td>\n",
       "    </tr>\n",
       "    <tr>\n",
       "      <th>M7A</th>\n",
       "      <td>M7A</td>\n",
       "      <td>Downtown Toronto</td>\n",
       "      <td>Queen's Park, Ontario Provincial Government</td>\n",
       "    </tr>\n",
       "    <tr>\n",
       "      <th>...</th>\n",
       "      <td>...</td>\n",
       "      <td>...</td>\n",
       "      <td>...</td>\n",
       "    </tr>\n",
       "    <tr>\n",
       "      <th>M8X</th>\n",
       "      <td>M8X</td>\n",
       "      <td>Etobicoke</td>\n",
       "      <td>The Kingsway, Montgomery Road, Old Mill North</td>\n",
       "    </tr>\n",
       "    <tr>\n",
       "      <th>M4Y</th>\n",
       "      <td>M4Y</td>\n",
       "      <td>Downtown Toronto</td>\n",
       "      <td>Church and Wellesley</td>\n",
       "    </tr>\n",
       "    <tr>\n",
       "      <th>M7Y</th>\n",
       "      <td>M7Y</td>\n",
       "      <td>East Toronto</td>\n",
       "      <td>East Toronto</td>\n",
       "    </tr>\n",
       "    <tr>\n",
       "      <th>M8Y</th>\n",
       "      <td>M8Y</td>\n",
       "      <td>Etobicoke</td>\n",
       "      <td>Old Mill South, King's Mill Park, Sunnylea, Hu...</td>\n",
       "    </tr>\n",
       "    <tr>\n",
       "      <th>M8Z</th>\n",
       "      <td>M8Z</td>\n",
       "      <td>Etobicoke</td>\n",
       "      <td>Mimico NW, The Queensway West, South of Bloor,...</td>\n",
       "    </tr>\n",
       "  </tbody>\n",
       "</table>\n",
       "<p>103 rows × 3 columns</p>\n",
       "</div>"
      ],
      "text/plain": [
       "    PostalCode           Borough  \\\n",
       "M3A        M3A        North York   \n",
       "M4A        M4A        North York   \n",
       "M5A        M5A  Downtown Toronto   \n",
       "M6A        M6A        North York   \n",
       "M7A        M7A  Downtown Toronto   \n",
       "..         ...               ...   \n",
       "M8X        M8X         Etobicoke   \n",
       "M4Y        M4Y  Downtown Toronto   \n",
       "M7Y        M7Y      East Toronto   \n",
       "M8Y        M8Y         Etobicoke   \n",
       "M8Z        M8Z         Etobicoke   \n",
       "\n",
       "                                          Neighborhood  \n",
       "M3A                                          Parkwoods  \n",
       "M4A                                   Victoria Village  \n",
       "M5A                          Regent Park, Harbourfront  \n",
       "M6A                   Lawrence Manor, Lawrence Heights  \n",
       "M7A        Queen's Park, Ontario Provincial Government  \n",
       "..                                                 ...  \n",
       "M8X      The Kingsway, Montgomery Road, Old Mill North  \n",
       "M4Y                               Church and Wellesley  \n",
       "M7Y                                       East Toronto  \n",
       "M8Y  Old Mill South, King's Mill Park, Sunnylea, Hu...  \n",
       "M8Z  Mimico NW, The Queensway West, South of Bloor,...  \n",
       "\n",
       "[103 rows x 3 columns]"
      ]
     },
     "execution_count": 55,
     "metadata": {},
     "output_type": "execute_result"
    }
   ],
   "source": [
    "df_toronto = pd.read_csv('toronto1.csv', index_col = 0)\n",
    "df_toronto"
   ]
  },
  {
   "cell_type": "code",
   "execution_count": 56,
   "metadata": {},
   "outputs": [
    {
     "data": {
      "text/plain": [
       "(103, 3)"
      ]
     },
     "execution_count": 56,
     "metadata": {},
     "output_type": "execute_result"
    }
   ],
   "source": [
    "df_toronto.shape"
   ]
  },
  {
   "cell_type": "markdown",
   "metadata": {},
   "source": [
    "## Get coordinates and store into dataframe"
   ]
  },
  {
   "cell_type": "code",
   "execution_count": 57,
   "metadata": {},
   "outputs": [
    {
     "name": "stdout",
     "output_type": "stream",
     "text": [
      "Coordinates found for neighborhood Parkwoods, Toronto - (43.7587999, -79.3201966)\n",
      "Coordinates found for neighborhood Victoria Village, Toronto - (43.732658, -79.3111892)\n",
      "Coordinates found for neighborhood Regent Park, Toronto - (43.6607056, -79.3604569)\n",
      "Coordinates found for neighborhood Lawrence Manor, Toronto - (43.7220788, -79.4375067)\n",
      "Coordinates found for neighborhood Queen's Park, Toronto - (43.659659, -79.3903399)\n",
      "Coordinates found for neighborhood Islington Avenue, Toronto - (43.6794838, -79.5389092)\n",
      "Coordinates found for neighborhood Malvern, Toronto - (43.8091955, -79.2217008)\n",
      "Coordinates found for neighborhood Don Mills, Toronto - (43.775347, -79.3459439)\n",
      "Coordinates found for neighborhood Parkview Hill, Toronto - (43.7062977, -79.3219073)\n",
      "Coordinates found for neighborhood Garden District, Toronto - (43.6564995, -79.3771141)\n",
      "Coordinates found for neighborhood Glencairn, Toronto - (43.7087117, -79.4406853)\n",
      "Coordinates found for neighborhood West Deane Park, Toronto - (43.6631995, -79.5685684)\n",
      "Coordinates found for neighborhood Rouge Hill, Toronto - (43.7802711, -79.1304992)\n",
      "Coordinates found for neighborhood Don Mills, Toronto - (43.775347, -79.3459439)\n",
      "Coordinates found for neighborhood Woodbine Heights, Toronto - (43.69992, -79.319279)\n",
      "Coordinates found for neighborhood St. James Town, Toronto - (43.6694032, -79.3727041)\n",
      "\n",
      "Warning: Coordinates cannot be found for neighborhood Humewood-Cedarvale, Toronto. Trying borough.\n",
      "Coordinates found for borough York - (43.6896191, -79.479188)\n",
      "\n",
      "Coordinates found for neighborhood Eringate, Toronto - (43.6622732, -79.5765162)\n",
      "Coordinates found for neighborhood Guildwood, Toronto - (43.7552251, -79.1982293)\n",
      "Coordinates found for neighborhood The Beaches, Toronto - (43.6710244, -79.296712)\n",
      "Coordinates found for neighborhood Berczy Park, Toronto - (43.64798435, -79.37539591138858)\n",
      "\n",
      "Warning: Coordinates cannot be found for neighborhood Caledonia-Fairbanks, Toronto. Trying borough.\n",
      "Coordinates found for borough York - (43.6896191, -79.479188)\n",
      "\n",
      "Coordinates found for neighborhood Woburn, Toronto - (43.7598243, -79.2252908)\n",
      "Coordinates found for neighborhood Leaside, Toronto - (43.7047983, -79.3680904)\n",
      "Coordinates found for neighborhood Central Bay Street, Toronto - (43.6561192, -79.38467)\n",
      "Coordinates found for neighborhood Christie, Toronto - (43.6641106, -79.4184051)\n",
      "Coordinates found for neighborhood Cedarbrae, Toronto - (43.75646655, -79.22669244258802)\n",
      "Coordinates found for neighborhood Hillcrest Village, Toronto - (43.6816953, -79.4257118)\n",
      "Coordinates found for neighborhood Bathurst Manor, Toronto - (43.6655189, -79.4119373)\n",
      "Coordinates found for neighborhood Thorncliffe Park, Toronto - (43.704553, -79.3454074)\n",
      "Coordinates found for neighborhood Richmond, Toronto - (43.6485875, -79.3913729)\n",
      "Coordinates found for neighborhood Dufferin, Toronto - (43.6602019, -79.4357191)\n",
      "Coordinates found for neighborhood Scarborough Village, Toronto - (43.7437422, -79.2116324)\n",
      "Coordinates found for neighborhood Fairview, Toronto - (43.777758500000004, -79.34429375180316)\n",
      "Coordinates found for neighborhood Northwood Park, Toronto - (43.7541351, -79.50448)\n",
      "Coordinates found for neighborhood East Toronto, Toronto - (43.6534817, -79.3839347)\n",
      "Coordinates found for neighborhood Harbourfront East, Toronto - (43.6400801, -79.3801495)\n",
      "Coordinates found for neighborhood Little Portugal, Toronto - (43.64741325, -79.43111632546047)\n",
      "Coordinates found for neighborhood Kennedy Park, Toronto - (43.724878, -79.2539688)\n",
      "Coordinates found for neighborhood Bayview Village, Toronto - (43.7691966, -79.3766617)\n",
      "Coordinates found for neighborhood Downsview, Toronto - (43.7492988, -79.462248)\n",
      "Coordinates found for neighborhood The Danforth West, Toronto - (43.6864333, -79.3003555)\n",
      "Coordinates found for neighborhood Toronto Dominion Centre, Toronto - (43.6473768, -79.3813719429129)\n",
      "Coordinates found for neighborhood Brockton, Toronto - (43.6509173, -79.4400216)\n",
      "Coordinates found for neighborhood Golden Mile, Toronto - (43.7278414, -79.2876217)\n",
      "Coordinates found for neighborhood York Mills, Toronto - (43.7440391, -79.406657)\n",
      "Coordinates found for neighborhood Downsview, Toronto - (43.7492988, -79.462248)\n",
      "Coordinates found for neighborhood India Bazaar, Toronto - (43.6722231, -79.3235032)\n",
      "Coordinates found for neighborhood Commerce Court, Toronto - (43.64809515, -79.37902543099575)\n",
      "Coordinates found for neighborhood North Park, Toronto - (43.7186899, -79.4775337)\n",
      "Coordinates found for neighborhood Humber Summit, Toronto - (43.7600778, -79.5717598)\n",
      "Coordinates found for neighborhood Cliffside, Toronto - (43.7111699, -79.2481769)\n",
      "Coordinates found for neighborhood Willowdale, Toronto - (43.7615095, -79.4109234)\n",
      "Coordinates found for neighborhood Downsview, Toronto - (43.7492988, -79.462248)\n",
      "Coordinates found for neighborhood Studio District, Toronto - (43.64958515, -79.39068322559326)\n",
      "Coordinates found for neighborhood Bedford Park, Toronto - (43.7373876, -79.4109253)\n",
      "\n",
      "Warning: Coordinates cannot be found for neighborhood Del Ray, Toronto. Trying borough.\n",
      "Coordinates found for borough York - (43.6896191, -79.479188)\n",
      "\n",
      "Coordinates found for neighborhood Humberlea, Toronto - (43.7213166, -79.5331605)\n",
      "Coordinates found for neighborhood Birch Cliff, Toronto - (43.6918051, -79.2644935)\n",
      "Coordinates found for neighborhood Willowdale, Toronto - (43.7615095, -79.4109234)\n",
      "Coordinates found for neighborhood Downsview, Toronto - (43.7492988, -79.462248)\n",
      "Coordinates found for neighborhood Lawrence Park, Toronto - (43.729199, -79.4032525)\n",
      "Coordinates found for neighborhood Roselawn, Toronto - (43.7105408, -79.4011379)\n",
      "Coordinates found for neighborhood Runnymede, Toronto - (43.6517026, -79.4759978)\n",
      "Coordinates found for neighborhood Weston, Toronto - (43.7001608, -79.5162474)\n",
      "Coordinates found for neighborhood Dorset Park, Toronto - (43.7528467, -79.282067)\n",
      "Coordinates found for neighborhood York Mills West, Toronto - (43.7440391, -79.406657)\n",
      "Coordinates found for neighborhood Davisville North, Toronto - (43.697936, -79.3972908)\n",
      "Coordinates found for neighborhood Forest Hill North & West, Toronto - (43.701028, -79.4255998)\n",
      "Coordinates found for neighborhood High Park, Toronto - (43.6538668, -79.4668644)\n",
      "Coordinates found for neighborhood Westmount, Toronto - (43.6936399, -79.5210426)\n",
      "Coordinates found for neighborhood Wexford, Toronto - (43.7453767, -79.2947155)\n",
      "Coordinates found for neighborhood Willowdale, Toronto - (43.7615095, -79.4109234)\n",
      "Coordinates found for neighborhood North Toronto West, Toronto - (43.6534817, -79.3839347)\n",
      "Coordinates found for neighborhood The Annex, Toronto - (43.6703377, -79.407117)\n",
      "Coordinates found for neighborhood Parkdale, Toronto - (43.640292200000005, -79.43729899898156)\n",
      "Coordinates found for neighborhood Mississauga, Toronto - (43.678523999999996, -79.62912913064454)\n",
      "Coordinates found for neighborhood Kingsview Village, Toronto - (43.6995391, -79.5563459)\n",
      "Coordinates found for neighborhood Agincourt, Toronto - (43.7853531, -79.2785494)\n",
      "Coordinates found for neighborhood Davisville, Toronto - (43.697936, -79.3972908)\n",
      "Coordinates found for neighborhood University of Toronto, Toronto - (43.663461999999996, -79.39775965337452)\n",
      "Coordinates found for neighborhood Runnymede, Toronto - (43.6517026, -79.4759978)\n",
      "Coordinates found for neighborhood Clarks Corners, Toronto - (43.7964095, -79.2977951)\n",
      "Coordinates found for neighborhood Moore Park, Toronto - (43.6903876, -79.3832965)\n",
      "Coordinates found for neighborhood Kensington Market, Toronto - (43.6552136, -79.4022604)\n",
      "Coordinates found for neighborhood Milliken, Toronto - (43.8231743, -79.3017626)\n",
      "Coordinates found for neighborhood Summerhill West, Toronto - (43.6816776, -79.3905037)\n",
      "Coordinates found for neighborhood CN Tower, Toronto - (43.6425637, -79.38708718320467)\n",
      "Coordinates found for neighborhood New Toronto, Toronto - (43.6007625, -79.505264)\n",
      "Coordinates found for neighborhood South Steeles, Toronto - (43.8161778, -79.3145378)\n",
      "Coordinates found for neighborhood Steeles West, Toronto - (43.8161778, -79.3145378)\n",
      "Coordinates found for neighborhood Rosedale, Toronto - (43.6783556, -79.3807457)\n",
      "Coordinates found for neighborhood Downtown Toronto, Toronto - (43.6541737, -79.38081164513409)\n"
     ]
    },
    {
     "name": "stdout",
     "output_type": "stream",
     "text": [
      "Coordinates found for neighborhood Alderwood, Toronto - (43.6017173, -79.5452325)\n",
      "Coordinates found for neighborhood Northwest, Toronto - (43.6534817, -79.3839347)\n",
      "Coordinates found for neighborhood Upper Rouge, Toronto - (43.8049304, -79.1658374)\n",
      "Coordinates found for neighborhood St. James Town, Toronto - (43.6694032, -79.3727041)\n",
      "Coordinates found for neighborhood First Canadian Place, Toronto - (43.6487681, -79.38169179283025)\n",
      "Coordinates found for neighborhood The Kingsway, Toronto - (43.6473811, -79.5113328)\n",
      "Coordinates found for neighborhood Church and Wellesley, Toronto - (43.6655242, -79.3838011)\n",
      "Coordinates found for neighborhood East Toronto, Toronto - (43.6534817, -79.3839347)\n",
      "Coordinates found for neighborhood Old Mill South, Toronto - (43.649826, -79.4943338)\n",
      "Coordinates found for neighborhood Mimico NW, Toronto - (43.6166773, -79.4968048)\n"
     ]
    }
   ],
   "source": [
    "latitudes = []\n",
    "longitudes = []\n",
    "\n",
    "for borough, neigh_data in zip(df_toronto['Borough'], df_toronto['Neighborhood']):\n",
    "    # Some rows consist of multiple neighborhoods. Use the first neighborhood.\n",
    "    neigh = neigh_data.split(', ')[0]\n",
    "    neigh += ', Toronto'\n",
    "    \n",
    "    coordinates = get_coordinates(neigh)\n",
    "    \n",
    "    if coordinates[0] == None or coordinates[1] == None: # Coordinates not found for neighborhood\n",
    "        print()\n",
    "        print('Warning: Coordinates cannot be found for neighborhood {}. Trying borough.'.format(neigh))\n",
    "        \n",
    "        coordinates = get_coordinates(borough + ', Toronto') # Use borough instead\n",
    "        \n",
    "        print('Coordinates found for borough {} - {}'.format(borough, coordinates))\n",
    "        print()\n",
    "        \n",
    "    else:\n",
    "        print('Coordinates found for neighborhood {} - {}'.format(neigh, coordinates))\n",
    "    \n",
    "    latitudes.append(coordinates[0])\n",
    "    longitudes.append(coordinates[1])\n",
    "\n",
    "df_toronto['Latitude'] = latitudes\n",
    "df_toronto['Longitude'] = longitudes"
   ]
  },
  {
   "cell_type": "markdown",
   "metadata": {},
   "source": [
    "Check to ensure no coordinates are missing."
   ]
  },
  {
   "cell_type": "code",
   "execution_count": 58,
   "metadata": {},
   "outputs": [
    {
     "data": {
      "text/html": [
       "<div>\n",
       "<style scoped>\n",
       "    .dataframe tbody tr th:only-of-type {\n",
       "        vertical-align: middle;\n",
       "    }\n",
       "\n",
       "    .dataframe tbody tr th {\n",
       "        vertical-align: top;\n",
       "    }\n",
       "\n",
       "    .dataframe thead th {\n",
       "        text-align: right;\n",
       "    }\n",
       "</style>\n",
       "<table border=\"1\" class=\"dataframe\">\n",
       "  <thead>\n",
       "    <tr style=\"text-align: right;\">\n",
       "      <th></th>\n",
       "      <th>PostalCode</th>\n",
       "      <th>Borough</th>\n",
       "      <th>Neighborhood</th>\n",
       "      <th>Latitude</th>\n",
       "      <th>Longitude</th>\n",
       "    </tr>\n",
       "  </thead>\n",
       "  <tbody>\n",
       "  </tbody>\n",
       "</table>\n",
       "</div>"
      ],
      "text/plain": [
       "Empty DataFrame\n",
       "Columns: [PostalCode, Borough, Neighborhood, Latitude, Longitude]\n",
       "Index: []"
      ]
     },
     "execution_count": 58,
     "metadata": {},
     "output_type": "execute_result"
    }
   ],
   "source": [
    "df_toronto[(df_toronto['Latitude'].isnull()) | (df_toronto['Longitude'].isnull())]"
   ]
  },
  {
   "cell_type": "markdown",
   "metadata": {},
   "source": [
    "### The resulting dataframe"
   ]
  },
  {
   "cell_type": "code",
   "execution_count": 59,
   "metadata": {},
   "outputs": [
    {
     "data": {
      "text/html": [
       "<div>\n",
       "<style scoped>\n",
       "    .dataframe tbody tr th:only-of-type {\n",
       "        vertical-align: middle;\n",
       "    }\n",
       "\n",
       "    .dataframe tbody tr th {\n",
       "        vertical-align: top;\n",
       "    }\n",
       "\n",
       "    .dataframe thead th {\n",
       "        text-align: right;\n",
       "    }\n",
       "</style>\n",
       "<table border=\"1\" class=\"dataframe\">\n",
       "  <thead>\n",
       "    <tr style=\"text-align: right;\">\n",
       "      <th></th>\n",
       "      <th>PostalCode</th>\n",
       "      <th>Borough</th>\n",
       "      <th>Neighborhood</th>\n",
       "      <th>Latitude</th>\n",
       "      <th>Longitude</th>\n",
       "    </tr>\n",
       "  </thead>\n",
       "  <tbody>\n",
       "    <tr>\n",
       "      <th>M3A</th>\n",
       "      <td>M3A</td>\n",
       "      <td>North York</td>\n",
       "      <td>Parkwoods</td>\n",
       "      <td>43.758800</td>\n",
       "      <td>-79.320197</td>\n",
       "    </tr>\n",
       "    <tr>\n",
       "      <th>M4A</th>\n",
       "      <td>M4A</td>\n",
       "      <td>North York</td>\n",
       "      <td>Victoria Village</td>\n",
       "      <td>43.732658</td>\n",
       "      <td>-79.311189</td>\n",
       "    </tr>\n",
       "    <tr>\n",
       "      <th>M5A</th>\n",
       "      <td>M5A</td>\n",
       "      <td>Downtown Toronto</td>\n",
       "      <td>Regent Park, Harbourfront</td>\n",
       "      <td>43.660706</td>\n",
       "      <td>-79.360457</td>\n",
       "    </tr>\n",
       "    <tr>\n",
       "      <th>M6A</th>\n",
       "      <td>M6A</td>\n",
       "      <td>North York</td>\n",
       "      <td>Lawrence Manor, Lawrence Heights</td>\n",
       "      <td>43.722079</td>\n",
       "      <td>-79.437507</td>\n",
       "    </tr>\n",
       "    <tr>\n",
       "      <th>M7A</th>\n",
       "      <td>M7A</td>\n",
       "      <td>Downtown Toronto</td>\n",
       "      <td>Queen's Park, Ontario Provincial Government</td>\n",
       "      <td>43.659659</td>\n",
       "      <td>-79.390340</td>\n",
       "    </tr>\n",
       "    <tr>\n",
       "      <th>...</th>\n",
       "      <td>...</td>\n",
       "      <td>...</td>\n",
       "      <td>...</td>\n",
       "      <td>...</td>\n",
       "      <td>...</td>\n",
       "    </tr>\n",
       "    <tr>\n",
       "      <th>M8X</th>\n",
       "      <td>M8X</td>\n",
       "      <td>Etobicoke</td>\n",
       "      <td>The Kingsway, Montgomery Road, Old Mill North</td>\n",
       "      <td>43.647381</td>\n",
       "      <td>-79.511333</td>\n",
       "    </tr>\n",
       "    <tr>\n",
       "      <th>M4Y</th>\n",
       "      <td>M4Y</td>\n",
       "      <td>Downtown Toronto</td>\n",
       "      <td>Church and Wellesley</td>\n",
       "      <td>43.665524</td>\n",
       "      <td>-79.383801</td>\n",
       "    </tr>\n",
       "    <tr>\n",
       "      <th>M7Y</th>\n",
       "      <td>M7Y</td>\n",
       "      <td>East Toronto</td>\n",
       "      <td>East Toronto</td>\n",
       "      <td>43.653482</td>\n",
       "      <td>-79.383935</td>\n",
       "    </tr>\n",
       "    <tr>\n",
       "      <th>M8Y</th>\n",
       "      <td>M8Y</td>\n",
       "      <td>Etobicoke</td>\n",
       "      <td>Old Mill South, King's Mill Park, Sunnylea, Hu...</td>\n",
       "      <td>43.649826</td>\n",
       "      <td>-79.494334</td>\n",
       "    </tr>\n",
       "    <tr>\n",
       "      <th>M8Z</th>\n",
       "      <td>M8Z</td>\n",
       "      <td>Etobicoke</td>\n",
       "      <td>Mimico NW, The Queensway West, South of Bloor,...</td>\n",
       "      <td>43.616677</td>\n",
       "      <td>-79.496805</td>\n",
       "    </tr>\n",
       "  </tbody>\n",
       "</table>\n",
       "<p>103 rows × 5 columns</p>\n",
       "</div>"
      ],
      "text/plain": [
       "    PostalCode           Borough  \\\n",
       "M3A        M3A        North York   \n",
       "M4A        M4A        North York   \n",
       "M5A        M5A  Downtown Toronto   \n",
       "M6A        M6A        North York   \n",
       "M7A        M7A  Downtown Toronto   \n",
       "..         ...               ...   \n",
       "M8X        M8X         Etobicoke   \n",
       "M4Y        M4Y  Downtown Toronto   \n",
       "M7Y        M7Y      East Toronto   \n",
       "M8Y        M8Y         Etobicoke   \n",
       "M8Z        M8Z         Etobicoke   \n",
       "\n",
       "                                          Neighborhood   Latitude  Longitude  \n",
       "M3A                                          Parkwoods  43.758800 -79.320197  \n",
       "M4A                                   Victoria Village  43.732658 -79.311189  \n",
       "M5A                          Regent Park, Harbourfront  43.660706 -79.360457  \n",
       "M6A                   Lawrence Manor, Lawrence Heights  43.722079 -79.437507  \n",
       "M7A        Queen's Park, Ontario Provincial Government  43.659659 -79.390340  \n",
       "..                                                 ...        ...        ...  \n",
       "M8X      The Kingsway, Montgomery Road, Old Mill North  43.647381 -79.511333  \n",
       "M4Y                               Church and Wellesley  43.665524 -79.383801  \n",
       "M7Y                                       East Toronto  43.653482 -79.383935  \n",
       "M8Y  Old Mill South, King's Mill Park, Sunnylea, Hu...  43.649826 -79.494334  \n",
       "M8Z  Mimico NW, The Queensway West, South of Bloor,...  43.616677 -79.496805  \n",
       "\n",
       "[103 rows x 5 columns]"
      ]
     },
     "execution_count": 59,
     "metadata": {},
     "output_type": "execute_result"
    }
   ],
   "source": [
    "df_toronto"
   ]
  },
  {
   "cell_type": "code",
   "execution_count": 60,
   "metadata": {},
   "outputs": [
    {
     "data": {
      "text/plain": [
       "(103, 5)"
      ]
     },
     "execution_count": 60,
     "metadata": {},
     "output_type": "execute_result"
    }
   ],
   "source": [
    "df_toronto.shape"
   ]
  },
  {
   "cell_type": "markdown",
   "metadata": {},
   "source": [
    "Write dataframe into CSV file to be used in Part 3."
   ]
  },
  {
   "cell_type": "code",
   "execution_count": 61,
   "metadata": {},
   "outputs": [],
   "source": [
    "df_toronto.to_csv('toronto2.csv')"
   ]
  }
 ],
 "metadata": {
  "kernelspec": {
   "display_name": "Python 3",
   "language": "python",
   "name": "python3"
  },
  "language_info": {
   "codemirror_mode": {
    "name": "ipython",
    "version": 3
   },
   "file_extension": ".py",
   "mimetype": "text/x-python",
   "name": "python",
   "nbconvert_exporter": "python",
   "pygments_lexer": "ipython3",
   "version": "3.7.6"
  }
 },
 "nbformat": 4,
 "nbformat_minor": 4
}
