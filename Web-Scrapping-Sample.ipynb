{
 "cells": [
  {
   "cell_type": "code",
   "execution_count": 9,
   "metadata": {},
   "outputs": [],
   "source": [
    "import pandas as pd\n",
    "import numpy as np\n",
    "import requests\n",
    "\n",
    "from bs4 import BeautifulSoup"
   ]
  },
  {
   "cell_type": "code",
   "execution_count": 15,
   "metadata": {},
   "outputs": [],
   "source": [
    "source = requests.get('https://en.wikipedia.org/wiki/List_of_postal_codes_of_Canada:_M').text\n",
    "\n",
    "soup = BeautifulSoup(source, 'html5lib')"
   ]
  },
  {
   "cell_type": "code",
   "execution_count": 18,
   "metadata": {},
   "outputs": [],
   "source": [
    "postal_codes_dict = {} # initialize an empty dictionary to save the data in\n",
    "\n",
    "for table_cell in soup.find_all('td'):\n",
    "    try:\n",
    "        postal_code = table_cell.p.b.text # get the postal code\n",
    "        postal_code_investigate = table_cell.span.text\n",
    "        neighborhoods_data = table_cell.span.text # get the rest of the data in the cell\n",
    "        borough = neighborhoods_data.split('(')[0] # get the borough in the cell\n",
    "        \n",
    "        # if the cell is not assigned then ignore it\n",
    "        if neighborhoods_data == 'Not assigned':\n",
    "            neighborhoods = []\n",
    "        # else process the data and add it to the dictionary\n",
    "        else:\n",
    "            postal_codes_dict[postal_code] = {}\n",
    "            \n",
    "            try:\n",
    "                neighborhoods = neighborhoods_data.split('(')[1]\n",
    "            \n",
    "                # remove parantheses from neighborhoods string\n",
    "                neighborhoods = neighborhoods.replace('(', ' ')\n",
    "                neighborhoods = neighborhoods.replace(')', ' ')\n",
    "\n",
    "                neighborhoods_names = neighborhoods.split('/')\n",
    "                neighborhoods_clean = ', '.join([name.strip() for name in neighborhoods_names])\n",
    "            except:\n",
    "                borough = borough.strip('\\n')\n",
    "                neighborhoods_clean = borough\n",
    " \n",
    "            # add borough and neighborhood to dictionary\n",
    "            postal_codes_dict[postal_code]['borough'] = borough\n",
    "            postal_codes_dict[postal_code]['neighborhoods'] = neighborhoods_clean\n",
    "    except:\n",
    "        pass\n",
    "    "
   ]
  },
  {
   "cell_type": "code",
   "execution_count": 12,
   "metadata": {},
   "outputs": [
    {
     "data": {
      "text/html": [
       "<div>\n",
       "<style scoped>\n",
       "    .dataframe tbody tr th:only-of-type {\n",
       "        vertical-align: middle;\n",
       "    }\n",
       "\n",
       "    .dataframe tbody tr th {\n",
       "        vertical-align: top;\n",
       "    }\n",
       "\n",
       "    .dataframe thead th {\n",
       "        text-align: right;\n",
       "    }\n",
       "</style>\n",
       "<table border=\"1\" class=\"dataframe\">\n",
       "  <thead>\n",
       "    <tr style=\"text-align: right;\">\n",
       "      <th></th>\n",
       "      <th>PostalCode</th>\n",
       "      <th>Borough</th>\n",
       "      <th>Neighborhood</th>\n",
       "    </tr>\n",
       "  </thead>\n",
       "  <tbody>\n",
       "  </tbody>\n",
       "</table>\n",
       "</div>"
      ],
      "text/plain": [
       "Empty DataFrame\n",
       "Columns: [PostalCode, Borough, Neighborhood]\n",
       "Index: []"
      ]
     },
     "execution_count": 12,
     "metadata": {},
     "output_type": "execute_result"
    }
   ],
   "source": [
    "# create an empty dataframe\n",
    "columns = ['PostalCode', 'Borough', 'Neighborhood']\n",
    "toronto_data = pd.DataFrame(columns=columns)\n",
    "toronto_data"
   ]
  },
  {
   "cell_type": "code",
   "execution_count": 20,
   "metadata": {},
   "outputs": [],
   "source": [
    "# populate dataframe with data from dictionary\n",
    "for ind, postal_code in enumerate(postal_codes_dict):\n",
    "    borough = postal_codes_dict[postal_code]['borough']\n",
    "    neighborhood = postal_codes_dict[postal_code]['neighborhoods']\n",
    "    toronto_data = toronto_data.append({\"PostalCode\": postal_code, \n",
    "                                        \"Borough\": borough, \n",
    "                                        \"Neighborhood\": neighborhood},\n",
    "                                        ignore_index=True)"
   ]
  },
  {
   "cell_type": "code",
   "execution_count": 21,
   "metadata": {},
   "outputs": [
    {
     "data": {
      "text/plain": [
       "0"
      ]
     },
     "execution_count": 21,
     "metadata": {},
     "output_type": "execute_result"
    }
   ],
   "source": [
    "# print number of rows of dataframe\n",
    "toronto_data.shape[0]"
   ]
  }
 ],
 "metadata": {
  "kernelspec": {
   "display_name": "Python 3",
   "language": "python",
   "name": "python3"
  },
  "language_info": {
   "codemirror_mode": {
    "name": "ipython",
    "version": 3
   },
   "file_extension": ".py",
   "mimetype": "text/x-python",
   "name": "python",
   "nbconvert_exporter": "python",
   "pygments_lexer": "ipython3",
   "version": "3.7.6"
  }
 },
 "nbformat": 4,
 "nbformat_minor": 4
}
