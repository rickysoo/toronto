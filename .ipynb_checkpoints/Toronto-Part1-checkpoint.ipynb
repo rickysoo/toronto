{
 "cells": [
  {
   "cell_type": "markdown",
   "metadata": {},
   "source": [
    "# Scraping and Analyzing Toronto with Python\n",
    "# Part 1 - Web Scraping"
   ]
  },
  {
   "cell_type": "markdown",
   "metadata": {},
   "source": [
    "## Introduction\n",
    "\n",
    "In this Part 1 of 3 of the series, we will read Toronto neighborhood data from [Wikipedia](https://en.wikipedia.org/wiki/List_of_postal_codes_of_Canada:_M), extract for relevant data using Beautiful Soup, and prepare the data in a data frame for pre-processing in Part 2."
   ]
  },
  {
   "cell_type": "markdown",
   "metadata": {},
   "source": [
    "### Import the necessary libraries"
   ]
  },
  {
   "cell_type": "code",
   "execution_count": 16,
   "metadata": {},
   "outputs": [],
   "source": [
    "import pandas as pd\n",
    "import requests\n",
    "from bs4 import BeautifulSoup"
   ]
  },
  {
   "cell_type": "markdown",
   "metadata": {},
   "source": [
    "### Read data from Wikipedia"
   ]
  },
  {
   "cell_type": "code",
   "execution_count": 17,
   "metadata": {},
   "outputs": [],
   "source": [
    "url = 'https://en.wikipedia.org/wiki/List_of_postal_codes_of_Canada:_M'\n",
    "page = requests.get(url)\n",
    "soup = BeautifulSoup(page.content, 'html.parser')"
   ]
  },
  {
   "cell_type": "markdown",
   "metadata": {},
   "source": [
    "### Extract data using Beautiful Soup"
   ]
  },
  {
   "cell_type": "code",
   "execution_count": 18,
   "metadata": {},
   "outputs": [],
   "source": [
    "data = {0: [], 1: [], 2: []}\n",
    "\n",
    "table = soup.find(['table'], attrs = {'class': 'wikitable sortable'})\n",
    "trs = table.tbody.find_all('tr')\n",
    "\n",
    "for tr in trs[1:]:\n",
    "    tds = tr.find_all('td')\n",
    "\n",
    "    for i, td in enumerate(tds):\n",
    "        item = td.text.replace('\\n', '').strip()\n",
    "        data[i].append(item)\n",
    "        \n",
    "# HTML extract\n",
    "# <table class=\"wikitable sortable\">\n",
    "# <tbody><tr>\n",
    "# <th>Postal Code\n",
    "# </th>\n",
    "# <th>Borough\n",
    "# </th>\n",
    "# <th>Neighbourhood\n",
    "# </th></tr>\n",
    "# <tr>\n",
    "# <td>M1A\n",
    "# </td>\n",
    "# <td>Not assigned\n",
    "# </td>\n",
    "# <td>Not assigned\n",
    "# </td></tr>\n",
    "# ...\n",
    "# </tbody></table>"
   ]
  },
  {
   "cell_type": "code",
   "execution_count": 19,
   "metadata": {},
   "outputs": [],
   "source": [
    "rows = []\n",
    "\n",
    "for PostalCode, Borough, Neighborhood in zip(data[0], data[1], data[2]):\n",
    "    rows.append([PostalCode, Borough, Neighborhood])"
   ]
  },
  {
   "cell_type": "markdown",
   "metadata": {},
   "source": [
    "### Put data into dataframe"
   ]
  },
  {
   "cell_type": "code",
   "execution_count": 20,
   "metadata": {},
   "outputs": [
    {
     "data": {
      "text/html": [
       "<div>\n",
       "<style scoped>\n",
       "    .dataframe tbody tr th:only-of-type {\n",
       "        vertical-align: middle;\n",
       "    }\n",
       "\n",
       "    .dataframe tbody tr th {\n",
       "        vertical-align: top;\n",
       "    }\n",
       "\n",
       "    .dataframe thead th {\n",
       "        text-align: right;\n",
       "    }\n",
       "</style>\n",
       "<table border=\"1\" class=\"dataframe\">\n",
       "  <thead>\n",
       "    <tr style=\"text-align: right;\">\n",
       "      <th></th>\n",
       "      <th>PostalCode</th>\n",
       "      <th>Borough</th>\n",
       "      <th>Neighborhood</th>\n",
       "    </tr>\n",
       "  </thead>\n",
       "  <tbody>\n",
       "    <tr>\n",
       "      <th>M1A</th>\n",
       "      <td>M1A</td>\n",
       "      <td>Not assigned</td>\n",
       "      <td>Not assigned</td>\n",
       "    </tr>\n",
       "    <tr>\n",
       "      <th>M2A</th>\n",
       "      <td>M2A</td>\n",
       "      <td>Not assigned</td>\n",
       "      <td>Not assigned</td>\n",
       "    </tr>\n",
       "    <tr>\n",
       "      <th>M3A</th>\n",
       "      <td>M3A</td>\n",
       "      <td>North York</td>\n",
       "      <td>Parkwoods</td>\n",
       "    </tr>\n",
       "    <tr>\n",
       "      <th>M4A</th>\n",
       "      <td>M4A</td>\n",
       "      <td>North York</td>\n",
       "      <td>Victoria Village</td>\n",
       "    </tr>\n",
       "    <tr>\n",
       "      <th>M5A</th>\n",
       "      <td>M5A</td>\n",
       "      <td>Downtown Toronto</td>\n",
       "      <td>Regent Park, Harbourfront</td>\n",
       "    </tr>\n",
       "    <tr>\n",
       "      <th>...</th>\n",
       "      <td>...</td>\n",
       "      <td>...</td>\n",
       "      <td>...</td>\n",
       "    </tr>\n",
       "    <tr>\n",
       "      <th>M5Z</th>\n",
       "      <td>M5Z</td>\n",
       "      <td>Not assigned</td>\n",
       "      <td>Not assigned</td>\n",
       "    </tr>\n",
       "    <tr>\n",
       "      <th>M6Z</th>\n",
       "      <td>M6Z</td>\n",
       "      <td>Not assigned</td>\n",
       "      <td>Not assigned</td>\n",
       "    </tr>\n",
       "    <tr>\n",
       "      <th>M7Z</th>\n",
       "      <td>M7Z</td>\n",
       "      <td>Not assigned</td>\n",
       "      <td>Not assigned</td>\n",
       "    </tr>\n",
       "    <tr>\n",
       "      <th>M8Z</th>\n",
       "      <td>M8Z</td>\n",
       "      <td>Etobicoke</td>\n",
       "      <td>Mimico NW, The Queensway West, South of Bloor,...</td>\n",
       "    </tr>\n",
       "    <tr>\n",
       "      <th>M9Z</th>\n",
       "      <td>M9Z</td>\n",
       "      <td>Not assigned</td>\n",
       "      <td>Not assigned</td>\n",
       "    </tr>\n",
       "  </tbody>\n",
       "</table>\n",
       "<p>180 rows × 3 columns</p>\n",
       "</div>"
      ],
      "text/plain": [
       "    PostalCode           Borough  \\\n",
       "M1A        M1A      Not assigned   \n",
       "M2A        M2A      Not assigned   \n",
       "M3A        M3A        North York   \n",
       "M4A        M4A        North York   \n",
       "M5A        M5A  Downtown Toronto   \n",
       "..         ...               ...   \n",
       "M5Z        M5Z      Not assigned   \n",
       "M6Z        M6Z      Not assigned   \n",
       "M7Z        M7Z      Not assigned   \n",
       "M8Z        M8Z         Etobicoke   \n",
       "M9Z        M9Z      Not assigned   \n",
       "\n",
       "                                          Neighborhood  \n",
       "M1A                                       Not assigned  \n",
       "M2A                                       Not assigned  \n",
       "M3A                                          Parkwoods  \n",
       "M4A                                   Victoria Village  \n",
       "M5A                          Regent Park, Harbourfront  \n",
       "..                                                 ...  \n",
       "M5Z                                       Not assigned  \n",
       "M6Z                                       Not assigned  \n",
       "M7Z                                       Not assigned  \n",
       "M8Z  Mimico NW, The Queensway West, South of Bloor,...  \n",
       "M9Z                                       Not assigned  \n",
       "\n",
       "[180 rows x 3 columns]"
      ]
     },
     "execution_count": 20,
     "metadata": {},
     "output_type": "execute_result"
    }
   ],
   "source": [
    "df_toronto = pd.DataFrame(rows, columns = ['PostalCode', 'Borough', 'Neighborhood'], index = data[0])\n",
    "df_toronto"
   ]
  },
  {
   "cell_type": "markdown",
   "metadata": {},
   "source": [
    "### Process Invalid Data"
   ]
  },
  {
   "cell_type": "markdown",
   "metadata": {},
   "source": [
    "If a neighborhood name is not assigned, replace with borough name."
   ]
  },
  {
   "cell_type": "code",
   "execution_count": 21,
   "metadata": {},
   "outputs": [],
   "source": [
    "df_toronto['Neighborhood'].replace('Not assigned', df_toronto['Borough'], inplace = True)"
   ]
  },
  {
   "cell_type": "markdown",
   "metadata": {},
   "source": [
    "Remove rows where both neighborhood and borough names are not assigned."
   ]
  },
  {
   "cell_type": "code",
   "execution_count": 22,
   "metadata": {},
   "outputs": [],
   "source": [
    "df_toronto.drop(df_toronto[(df_toronto['Borough'] == 'Not assigned') \\\n",
    "    & (df_toronto['Neighborhood'] == 'Not assigned')].index, inplace = True)"
   ]
  },
  {
   "cell_type": "markdown",
   "metadata": {},
   "source": [
    "M7R and M7Y are not having valid neighborhood names. Replace with their borough names."
   ]
  },
  {
   "cell_type": "code",
   "execution_count": 23,
   "metadata": {},
   "outputs": [
    {
     "data": {
      "text/plain": [
       "('Canada Post Gateway Processing Centre',\n",
       " 'Business reply mail Processing Centre, South Central Letter Processing Plant Toronto')"
      ]
     },
     "execution_count": 23,
     "metadata": {},
     "output_type": "execute_result"
    }
   ],
   "source": [
    "# Before replacement\n",
    "df_toronto.loc['M7R']['Neighborhood'], df_toronto.loc['M7Y']['Neighborhood']"
   ]
  },
  {
   "cell_type": "code",
   "execution_count": 24,
   "metadata": {},
   "outputs": [],
   "source": [
    "df_toronto.loc['M7R']['Neighborhood'] = df_toronto.loc['M7R']['Borough']\n",
    "df_toronto.loc['M7Y']['Neighborhood'] = df_toronto.loc['M7Y']['Borough']"
   ]
  },
  {
   "cell_type": "code",
   "execution_count": 25,
   "metadata": {
    "scrolled": true
   },
   "outputs": [
    {
     "data": {
      "text/plain": [
       "('Mississauga', 'East Toronto')"
      ]
     },
     "execution_count": 25,
     "metadata": {},
     "output_type": "execute_result"
    }
   ],
   "source": [
    "# After replacement\n",
    "df_toronto.loc['M7R']['Neighborhood'], df_toronto.loc['M7Y']['Neighborhood']"
   ]
  },
  {
   "cell_type": "markdown",
   "metadata": {},
   "source": [
    "### The resulting dataframe"
   ]
  },
  {
   "cell_type": "code",
   "execution_count": 26,
   "metadata": {},
   "outputs": [
    {
     "data": {
      "text/html": [
       "<div>\n",
       "<style scoped>\n",
       "    .dataframe tbody tr th:only-of-type {\n",
       "        vertical-align: middle;\n",
       "    }\n",
       "\n",
       "    .dataframe tbody tr th {\n",
       "        vertical-align: top;\n",
       "    }\n",
       "\n",
       "    .dataframe thead th {\n",
       "        text-align: right;\n",
       "    }\n",
       "</style>\n",
       "<table border=\"1\" class=\"dataframe\">\n",
       "  <thead>\n",
       "    <tr style=\"text-align: right;\">\n",
       "      <th></th>\n",
       "      <th>PostalCode</th>\n",
       "      <th>Borough</th>\n",
       "      <th>Neighborhood</th>\n",
       "    </tr>\n",
       "  </thead>\n",
       "  <tbody>\n",
       "    <tr>\n",
       "      <th>M3A</th>\n",
       "      <td>M3A</td>\n",
       "      <td>North York</td>\n",
       "      <td>Parkwoods</td>\n",
       "    </tr>\n",
       "    <tr>\n",
       "      <th>M4A</th>\n",
       "      <td>M4A</td>\n",
       "      <td>North York</td>\n",
       "      <td>Victoria Village</td>\n",
       "    </tr>\n",
       "    <tr>\n",
       "      <th>M5A</th>\n",
       "      <td>M5A</td>\n",
       "      <td>Downtown Toronto</td>\n",
       "      <td>Regent Park, Harbourfront</td>\n",
       "    </tr>\n",
       "    <tr>\n",
       "      <th>M6A</th>\n",
       "      <td>M6A</td>\n",
       "      <td>North York</td>\n",
       "      <td>Lawrence Manor, Lawrence Heights</td>\n",
       "    </tr>\n",
       "    <tr>\n",
       "      <th>M7A</th>\n",
       "      <td>M7A</td>\n",
       "      <td>Downtown Toronto</td>\n",
       "      <td>Queen's Park, Ontario Provincial Government</td>\n",
       "    </tr>\n",
       "    <tr>\n",
       "      <th>...</th>\n",
       "      <td>...</td>\n",
       "      <td>...</td>\n",
       "      <td>...</td>\n",
       "    </tr>\n",
       "    <tr>\n",
       "      <th>M8X</th>\n",
       "      <td>M8X</td>\n",
       "      <td>Etobicoke</td>\n",
       "      <td>The Kingsway, Montgomery Road, Old Mill North</td>\n",
       "    </tr>\n",
       "    <tr>\n",
       "      <th>M4Y</th>\n",
       "      <td>M4Y</td>\n",
       "      <td>Downtown Toronto</td>\n",
       "      <td>Church and Wellesley</td>\n",
       "    </tr>\n",
       "    <tr>\n",
       "      <th>M7Y</th>\n",
       "      <td>M7Y</td>\n",
       "      <td>East Toronto</td>\n",
       "      <td>East Toronto</td>\n",
       "    </tr>\n",
       "    <tr>\n",
       "      <th>M8Y</th>\n",
       "      <td>M8Y</td>\n",
       "      <td>Etobicoke</td>\n",
       "      <td>Old Mill South, King's Mill Park, Sunnylea, Hu...</td>\n",
       "    </tr>\n",
       "    <tr>\n",
       "      <th>M8Z</th>\n",
       "      <td>M8Z</td>\n",
       "      <td>Etobicoke</td>\n",
       "      <td>Mimico NW, The Queensway West, South of Bloor,...</td>\n",
       "    </tr>\n",
       "  </tbody>\n",
       "</table>\n",
       "<p>103 rows × 3 columns</p>\n",
       "</div>"
      ],
      "text/plain": [
       "    PostalCode           Borough  \\\n",
       "M3A        M3A        North York   \n",
       "M4A        M4A        North York   \n",
       "M5A        M5A  Downtown Toronto   \n",
       "M6A        M6A        North York   \n",
       "M7A        M7A  Downtown Toronto   \n",
       "..         ...               ...   \n",
       "M8X        M8X         Etobicoke   \n",
       "M4Y        M4Y  Downtown Toronto   \n",
       "M7Y        M7Y      East Toronto   \n",
       "M8Y        M8Y         Etobicoke   \n",
       "M8Z        M8Z         Etobicoke   \n",
       "\n",
       "                                          Neighborhood  \n",
       "M3A                                          Parkwoods  \n",
       "M4A                                   Victoria Village  \n",
       "M5A                          Regent Park, Harbourfront  \n",
       "M6A                   Lawrence Manor, Lawrence Heights  \n",
       "M7A        Queen's Park, Ontario Provincial Government  \n",
       "..                                                 ...  \n",
       "M8X      The Kingsway, Montgomery Road, Old Mill North  \n",
       "M4Y                               Church and Wellesley  \n",
       "M7Y                                       East Toronto  \n",
       "M8Y  Old Mill South, King's Mill Park, Sunnylea, Hu...  \n",
       "M8Z  Mimico NW, The Queensway West, South of Bloor,...  \n",
       "\n",
       "[103 rows x 3 columns]"
      ]
     },
     "execution_count": 26,
     "metadata": {},
     "output_type": "execute_result"
    }
   ],
   "source": [
    "df_toronto"
   ]
  },
  {
   "cell_type": "code",
   "execution_count": 27,
   "metadata": {},
   "outputs": [
    {
     "data": {
      "text/plain": [
       "(103, 3)"
      ]
     },
     "execution_count": 27,
     "metadata": {},
     "output_type": "execute_result"
    }
   ],
   "source": [
    "df_toronto.shape"
   ]
  },
  {
   "cell_type": "markdown",
   "metadata": {},
   "source": [
    "Write dataframe into CSV file to be used in Part 2."
   ]
  },
  {
   "cell_type": "code",
   "execution_count": 28,
   "metadata": {},
   "outputs": [],
   "source": [
    "df_toronto.to_csv('toronto.csv')"
   ]
  }
 ],
 "metadata": {
  "kernelspec": {
   "display_name": "Python 3",
   "language": "python",
   "name": "python3"
  },
  "language_info": {
   "codemirror_mode": {
    "name": "ipython",
    "version": 3
   },
   "file_extension": ".py",
   "mimetype": "text/x-python",
   "name": "python",
   "nbconvert_exporter": "python",
   "pygments_lexer": "ipython3",
   "version": "3.7.6"
  }
 },
 "nbformat": 4,
 "nbformat_minor": 4
}
